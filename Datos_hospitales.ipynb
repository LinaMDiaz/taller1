{
 "cells": [
  {
   "cell_type": "code",
   "execution_count": 130,
   "id": "b793d537",
   "metadata": {},
   "outputs": [],
   "source": [
    "import pandas as pd\n",
    "import numpy as np\n",
    "import seaborn as sns"
   ]
  },
  {
   "cell_type": "code",
   "execution_count": 131,
   "id": "371230bf",
   "metadata": {},
   "outputs": [],
   "source": [
    "datos=pd.read_excel(open('C:/Users/andre/OneDrive/Documentos/taller1/taller1/datos.xls', 'rb'),sheet_name='Información Histórica') "
   ]
  },
  {
   "cell_type": "code",
   "execution_count": 132,
   "id": "8308f77c",
   "metadata": {},
   "outputs": [
    {
     "data": {
      "text/html": [
       "<div>\n",
       "<style scoped>\n",
       "    .dataframe tbody tr th:only-of-type {\n",
       "        vertical-align: middle;\n",
       "    }\n",
       "\n",
       "    .dataframe tbody tr th {\n",
       "        vertical-align: top;\n",
       "    }\n",
       "\n",
       "    .dataframe thead th {\n",
       "        text-align: right;\n",
       "    }\n",
       "</style>\n",
       "<table border=\"1\" class=\"dataframe\">\n",
       "  <thead>\n",
       "    <tr style=\"text-align: right;\">\n",
       "      <th></th>\n",
       "      <th>Número de llegada</th>\n",
       "      <th>Hospital al que llega</th>\n",
       "      <th>GRD</th>\n",
       "      <th>Día de llegada</th>\n",
       "      <th>Día de salida</th>\n",
       "      <th>Estadia</th>\n",
       "    </tr>\n",
       "  </thead>\n",
       "  <tbody>\n",
       "    <tr>\n",
       "      <th>0</th>\n",
       "      <td>1</td>\n",
       "      <td>Instituto Traumatológico Dr. Teodoro Gebauer</td>\n",
       "      <td>GRD3</td>\n",
       "      <td>1.0</td>\n",
       "      <td>4</td>\n",
       "      <td>3</td>\n",
       "    </tr>\n",
       "    <tr>\n",
       "      <th>1</th>\n",
       "      <td>2</td>\n",
       "      <td>Hospital Clínico San Borja-Arriarán</td>\n",
       "      <td>GRD7</td>\n",
       "      <td>1.0</td>\n",
       "      <td>5</td>\n",
       "      <td>4</td>\n",
       "    </tr>\n",
       "    <tr>\n",
       "      <th>2</th>\n",
       "      <td>3</td>\n",
       "      <td>Hospital Dr. Luis Tisné B.</td>\n",
       "      <td>GRD7</td>\n",
       "      <td>1.0</td>\n",
       "      <td>5</td>\n",
       "      <td>4</td>\n",
       "    </tr>\n",
       "    <tr>\n",
       "      <th>3</th>\n",
       "      <td>4</td>\n",
       "      <td>Hospital Dr. Exequiel González Cortés</td>\n",
       "      <td>GRD10</td>\n",
       "      <td>1.0</td>\n",
       "      <td>11</td>\n",
       "      <td>10</td>\n",
       "    </tr>\n",
       "    <tr>\n",
       "      <th>4</th>\n",
       "      <td>5</td>\n",
       "      <td>Hospital Barros Luco Trudeau</td>\n",
       "      <td>GRD6</td>\n",
       "      <td>1.0</td>\n",
       "      <td>6</td>\n",
       "      <td>5</td>\n",
       "    </tr>\n",
       "  </tbody>\n",
       "</table>\n",
       "</div>"
      ],
      "text/plain": [
       "   Número de llegada                         Hospital al que llega    GRD  \\\n",
       "0                  1  Instituto Traumatológico Dr. Teodoro Gebauer   GRD3   \n",
       "1                  2           Hospital Clínico San Borja-Arriarán   GRD7   \n",
       "2                  3                    Hospital Dr. Luis Tisné B.   GRD7   \n",
       "3                  4         Hospital Dr. Exequiel González Cortés  GRD10   \n",
       "4                  5                  Hospital Barros Luco Trudeau   GRD6   \n",
       "\n",
       "   Día de llegada  Día de salida Estadia  \n",
       "0             1.0              4       3  \n",
       "1             1.0              5       4  \n",
       "2             1.0              5       4  \n",
       "3             1.0             11      10  \n",
       "4             1.0              6       5  "
      ]
     },
     "execution_count": 132,
     "metadata": {},
     "output_type": "execute_result"
    }
   ],
   "source": [
    "datos.head()"
   ]
  },
  {
   "cell_type": "code",
   "execution_count": 133,
   "id": "94fe616d",
   "metadata": {},
   "outputs": [
    {
     "name": "stdout",
     "output_type": "stream",
     "text": [
      "<class 'pandas.core.frame.DataFrame'>\n",
      "RangeIndex: 65534 entries, 0 to 65533\n",
      "Data columns (total 6 columns):\n",
      " #   Column                 Non-Null Count  Dtype  \n",
      "---  ------                 --------------  -----  \n",
      " 0   Número de llegada      65534 non-null  int64  \n",
      " 1   Hospital al que llega  65534 non-null  object \n",
      " 2   GRD                    65534 non-null  object \n",
      " 3   Día de llegada         65532 non-null  float64\n",
      " 4   Día de salida          65534 non-null  int64  \n",
      " 5   Estadia                65532 non-null  object \n",
      "dtypes: float64(1), int64(2), object(3)\n",
      "memory usage: 3.0+ MB\n"
     ]
    }
   ],
   "source": [
    "# Información \n",
    "datos.info()"
   ]
  },
  {
   "cell_type": "code",
   "execution_count": 134,
   "id": "2e690b67",
   "metadata": {},
   "outputs": [
    {
     "data": {
      "text/html": [
       "<div>\n",
       "<style scoped>\n",
       "    .dataframe tbody tr th:only-of-type {\n",
       "        vertical-align: middle;\n",
       "    }\n",
       "\n",
       "    .dataframe tbody tr th {\n",
       "        vertical-align: top;\n",
       "    }\n",
       "\n",
       "    .dataframe thead th {\n",
       "        text-align: right;\n",
       "    }\n",
       "</style>\n",
       "<table border=\"1\" class=\"dataframe\">\n",
       "  <thead>\n",
       "    <tr style=\"text-align: right;\">\n",
       "      <th></th>\n",
       "      <th>Número de llegada</th>\n",
       "      <th>Día de llegada</th>\n",
       "      <th>Día de salida</th>\n",
       "    </tr>\n",
       "  </thead>\n",
       "  <tbody>\n",
       "    <tr>\n",
       "      <th>count</th>\n",
       "      <td>65534.000000</td>\n",
       "      <td>65532.000000</td>\n",
       "      <td>65534.000000</td>\n",
       "    </tr>\n",
       "    <tr>\n",
       "      <th>mean</th>\n",
       "      <td>32767.500000</td>\n",
       "      <td>215.913828</td>\n",
       "      <td>221.399579</td>\n",
       "    </tr>\n",
       "    <tr>\n",
       "      <th>std</th>\n",
       "      <td>18918.180608</td>\n",
       "      <td>122.152906</td>\n",
       "      <td>122.175407</td>\n",
       "    </tr>\n",
       "    <tr>\n",
       "      <th>min</th>\n",
       "      <td>1.000000</td>\n",
       "      <td>1.000000</td>\n",
       "      <td>4.000000</td>\n",
       "    </tr>\n",
       "    <tr>\n",
       "      <th>25%</th>\n",
       "      <td>16384.250000</td>\n",
       "      <td>110.000000</td>\n",
       "      <td>116.000000</td>\n",
       "    </tr>\n",
       "    <tr>\n",
       "      <th>50%</th>\n",
       "      <td>32767.500000</td>\n",
       "      <td>219.000000</td>\n",
       "      <td>225.000000</td>\n",
       "    </tr>\n",
       "    <tr>\n",
       "      <th>75%</th>\n",
       "      <td>49150.750000</td>\n",
       "      <td>322.000000</td>\n",
       "      <td>327.000000</td>\n",
       "    </tr>\n",
       "    <tr>\n",
       "      <th>max</th>\n",
       "      <td>65534.000000</td>\n",
       "      <td>424.000000</td>\n",
       "      <td>434.000000</td>\n",
       "    </tr>\n",
       "  </tbody>\n",
       "</table>\n",
       "</div>"
      ],
      "text/plain": [
       "       Número de llegada  Día de llegada  Día de salida\n",
       "count       65534.000000    65532.000000   65534.000000\n",
       "mean        32767.500000      215.913828     221.399579\n",
       "std         18918.180608      122.152906     122.175407\n",
       "min             1.000000        1.000000       4.000000\n",
       "25%         16384.250000      110.000000     116.000000\n",
       "50%         32767.500000      219.000000     225.000000\n",
       "75%         49150.750000      322.000000     327.000000\n",
       "max         65534.000000      424.000000     434.000000"
      ]
     },
     "execution_count": 134,
     "metadata": {},
     "output_type": "execute_result"
    }
   ],
   "source": [
    "#Describir los datos\n",
    "\n",
    "datos.describe()"
   ]
  },
  {
   "cell_type": "code",
   "execution_count": 135,
   "id": "26f3cb5a",
   "metadata": {},
   "outputs": [
    {
     "data": {
      "text/plain": [
       "0"
      ]
     },
     "execution_count": 135,
     "metadata": {},
     "output_type": "execute_result"
    }
   ],
   "source": [
    "## valores duplicados\n",
    "\n",
    "datos.duplicated().sum()"
   ]
  },
  {
   "cell_type": "code",
   "execution_count": 15,
   "id": "82aa745e",
   "metadata": {},
   "outputs": [
    {
     "name": "stderr",
     "output_type": "stream",
     "text": [
      "C:\\Users\\andre\\anaconda3\\lib\\site-packages\\seaborn\\_decorators.py:36: FutureWarning: Pass the following variable as a keyword arg: x. From version 0.12, the only valid positional argument will be `data`, and passing other arguments without an explicit keyword will result in an error or misinterpretation.\n",
      "  warnings.warn(\n"
     ]
    },
    {
     "data": {
      "text/plain": [
       "<AxesSubplot:xlabel='Estadia', ylabel='count'>"
      ]
     },
     "execution_count": 15,
     "metadata": {},
     "output_type": "execute_result"
    },
    {
     "data": {
      "image/png": "[encoded data removed]",
      "text/plain": [
       "<Figure size 432x288 with 1 Axes>"
      ]
     },
     "metadata": {
      "needs_background": "light"
     },
     "output_type": "display_data"
    }
   ],
   "source": [
    "#Plot the unique values\n",
    "\n",
    "sns.countplot(datos['Estadia'])"
   ]
  },
  {
   "cell_type": "code",
   "execution_count": 136,
   "id": "68340b07",
   "metadata": {},
   "outputs": [
    {
     "data": {
      "text/plain": [
       "Número de llegada        0\n",
       "Hospital al que llega    0\n",
       "GRD                      0\n",
       "Día de llegada           2\n",
       "Día de salida            0\n",
       "Estadia                  2\n",
       "dtype: int64"
      ]
     },
     "execution_count": 136,
     "metadata": {},
     "output_type": "execute_result"
    }
   ],
   "source": [
    "# encontrar valores null \n",
    "\n",
    "datos.isnull().sum()"
   ]
  },
  {
   "cell_type": "code",
   "execution_count": 18,
   "id": "c4b9569d",
   "metadata": {},
   "outputs": [
    {
     "data": {
      "text/plain": [
       "<AxesSubplot:>"
      ]
     },
     "execution_count": 18,
     "metadata": {},
     "output_type": "execute_result"
    },
    {
     "data": {
      "image/png": "[encoded data removed]",
      "text/plain": [
       "<Figure size 432x288 with 1 Axes>"
      ]
     },
     "metadata": {
      "needs_background": "light"
     },
     "output_type": "display_data"
    }
   ],
   "source": [
    "## boxplot para variables cuantitativas \n",
    "\n",
    "datos[[\"Número de llegada\"]].boxplot()"
   ]
  },
  {
   "cell_type": "code",
   "execution_count": 19,
   "id": "7c7899ce",
   "metadata": {},
   "outputs": [
    {
     "data": {
      "text/plain": [
       "<AxesSubplot:>"
      ]
     },
     "execution_count": 19,
     "metadata": {},
     "output_type": "execute_result"
    },
    {
     "data": {
      "image/png": "[encoded data removed]",
      "text/plain": [
       "<Figure size 432x288 with 1 Axes>"
      ]
     },
     "metadata": {
      "needs_background": "light"
     },
     "output_type": "display_data"
    }
   ],
   "source": [
    "datos[[\"Día de llegada\"]].boxplot()"
   ]
  },
  {
   "cell_type": "code",
   "execution_count": 20,
   "id": "6c56a868",
   "metadata": {},
   "outputs": [
    {
     "data": {
      "text/plain": [
       "<AxesSubplot:>"
      ]
     },
     "execution_count": 20,
     "metadata": {},
     "output_type": "execute_result"
    },
    {
     "data": {
      "image/png": "[encoded data removed]",
      "text/plain": [
       "<Figure size 432x288 with 1 Axes>"
      ]
     },
     "metadata": {
      "needs_background": "light"
     },
     "output_type": "display_data"
    }
   ],
   "source": [
    "datos[[\"Día de salida\"]].boxplot()"
   ]
  },
  {
   "cell_type": "code",
   "execution_count": 137,
   "id": "b144aab7",
   "metadata": {},
   "outputs": [
    {
     "name": "stdout",
     "output_type": "stream",
     "text": [
      "    Número de llegada                              Hospital al que llega  \\\n",
      "0                   1       Instituto Traumatológico Dr. Teodoro Gebauer   \n",
      "1                   2                Hospital Clínico San Borja-Arriarán   \n",
      "2                   3                         Hospital Dr. Luis Tisné B.   \n",
      "3                   4              Hospital Dr. Exequiel González Cortés   \n",
      "4                   5                       Hospital Barros Luco Trudeau   \n",
      "5                   6  Instituto Nacional de Enfermedades Respiratori...   \n",
      "6                   7                    Hospital Dr. Félix Bulnes Cerda   \n",
      "7                   8                         Hospital Dr. Luis Tisné B.   \n",
      "8                   9                              Hospital Del Salvador   \n",
      "9                  10       Instituto Traumatológico Dr. Teodoro Gebauer   \n",
      "10                 11  Hospital de Urgencia Asistencia Pública Dr. Al...   \n",
      "11                 12                     Complejo Hospitalario San José   \n",
      "12                 13                       Hospital Barros Luco Trudeau   \n",
      "13                 14              Hospital Dr. Exequiel González Cortés   \n",
      "14                 15         Complejo Hospitalario Dr. Sótero del Río     \n",
      "\n",
      "      GRD  Día de llegada  Día de salida Estadia  \n",
      "0    GRD3             1.0              4       3  \n",
      "1    GRD7             1.0              5       4  \n",
      "2    GRD7             1.0              5       4  \n",
      "3   GRD10             1.0             11      10  \n",
      "4    GRD6             1.0              6       5  \n",
      "5    GRD1             1.0             11      10  \n",
      "6    GRD3             1.0              4       3  \n",
      "7    GRD1             1.0             11      na  \n",
      "8    GRD1             1.0             11      10  \n",
      "9    GRD3             1.0              4       3  \n",
      "10   GRD6             1.0              6       5  \n",
      "11   GRD5             NaN              5       4  \n",
      "12   GRD5             1.0              5       4  \n",
      "13   GRD3             1.0              4       3  \n",
      "14   GRD3             1.0              4       3  \n"
     ]
    }
   ],
   "source": [
    "print(datos.iloc[:15,:])"
   ]
  },
  {
   "cell_type": "code",
   "execution_count": 138,
   "id": "af2466dc",
   "metadata": {},
   "outputs": [
    {
     "data": {
      "text/html": [
       "<div>\n",
       "<style scoped>\n",
       "    .dataframe tbody tr th:only-of-type {\n",
       "        vertical-align: middle;\n",
       "    }\n",
       "\n",
       "    .dataframe tbody tr th {\n",
       "        vertical-align: top;\n",
       "    }\n",
       "\n",
       "    .dataframe thead th {\n",
       "        text-align: right;\n",
       "    }\n",
       "</style>\n",
       "<table border=\"1\" class=\"dataframe\">\n",
       "  <thead>\n",
       "    <tr style=\"text-align: right;\">\n",
       "      <th></th>\n",
       "      <th>Número de llegada</th>\n",
       "      <th>Hospital al que llega</th>\n",
       "      <th>GRD</th>\n",
       "      <th>Día de llegada</th>\n",
       "      <th>Día de salida</th>\n",
       "      <th>Estadia</th>\n",
       "    </tr>\n",
       "  </thead>\n",
       "  <tbody>\n",
       "    <tr>\n",
       "      <th>0</th>\n",
       "      <td>1</td>\n",
       "      <td>Instituto Traumatológico Dr. Teodoro Gebauer</td>\n",
       "      <td>GRD3</td>\n",
       "      <td>1.0</td>\n",
       "      <td>4</td>\n",
       "      <td>3.0</td>\n",
       "    </tr>\n",
       "    <tr>\n",
       "      <th>1</th>\n",
       "      <td>2</td>\n",
       "      <td>Hospital Clínico San Borja-Arriarán</td>\n",
       "      <td>GRD7</td>\n",
       "      <td>1.0</td>\n",
       "      <td>5</td>\n",
       "      <td>4.0</td>\n",
       "    </tr>\n",
       "    <tr>\n",
       "      <th>2</th>\n",
       "      <td>3</td>\n",
       "      <td>Hospital Dr. Luis Tisné B.</td>\n",
       "      <td>GRD7</td>\n",
       "      <td>1.0</td>\n",
       "      <td>5</td>\n",
       "      <td>4.0</td>\n",
       "    </tr>\n",
       "    <tr>\n",
       "      <th>3</th>\n",
       "      <td>4</td>\n",
       "      <td>Hospital Dr. Exequiel González Cortés</td>\n",
       "      <td>GRD10</td>\n",
       "      <td>1.0</td>\n",
       "      <td>11</td>\n",
       "      <td>10.0</td>\n",
       "    </tr>\n",
       "    <tr>\n",
       "      <th>4</th>\n",
       "      <td>5</td>\n",
       "      <td>Hospital Barros Luco Trudeau</td>\n",
       "      <td>GRD6</td>\n",
       "      <td>1.0</td>\n",
       "      <td>6</td>\n",
       "      <td>5.0</td>\n",
       "    </tr>\n",
       "  </tbody>\n",
       "</table>\n",
       "</div>"
      ],
      "text/plain": [
       "   Número de llegada                         Hospital al que llega    GRD  \\\n",
       "0                  1  Instituto Traumatológico Dr. Teodoro Gebauer   GRD3   \n",
       "1                  2           Hospital Clínico San Borja-Arriarán   GRD7   \n",
       "2                  3                    Hospital Dr. Luis Tisné B.   GRD7   \n",
       "3                  4         Hospital Dr. Exequiel González Cortés  GRD10   \n",
       "4                  5                  Hospital Barros Luco Trudeau   GRD6   \n",
       "\n",
       "   Día de llegada  Día de salida  Estadia  \n",
       "0             1.0              4      3.0  \n",
       "1             1.0              5      4.0  \n",
       "2             1.0              5      4.0  \n",
       "3             1.0             11     10.0  \n",
       "4             1.0              6      5.0  "
      ]
     },
     "execution_count": 138,
     "metadata": {},
     "output_type": "execute_result"
    }
   ],
   "source": [
    "datos['Estadia'].replace([np.nan,\"Jaime\",\"lala\",\"Luisa\",\"na\"],0,inplace = True)\n",
    "datos.head()"
   ]
  },
  {
   "cell_type": "code",
   "execution_count": 139,
   "id": "156318b3",
   "metadata": {},
   "outputs": [
    {
     "name": "stdout",
     "output_type": "stream",
     "text": [
      "    Número de llegada                              Hospital al que llega  \\\n",
      "0                   1       Instituto Traumatológico Dr. Teodoro Gebauer   \n",
      "1                   2                Hospital Clínico San Borja-Arriarán   \n",
      "2                   3                         Hospital Dr. Luis Tisné B.   \n",
      "3                   4              Hospital Dr. Exequiel González Cortés   \n",
      "4                   5                       Hospital Barros Luco Trudeau   \n",
      "5                   6  Instituto Nacional de Enfermedades Respiratori...   \n",
      "6                   7                    Hospital Dr. Félix Bulnes Cerda   \n",
      "7                   8                         Hospital Dr. Luis Tisné B.   \n",
      "8                   9                              Hospital Del Salvador   \n",
      "9                  10       Instituto Traumatológico Dr. Teodoro Gebauer   \n",
      "10                 11  Hospital de Urgencia Asistencia Pública Dr. Al...   \n",
      "11                 12                     Complejo Hospitalario San José   \n",
      "12                 13                       Hospital Barros Luco Trudeau   \n",
      "13                 14              Hospital Dr. Exequiel González Cortés   \n",
      "14                 15         Complejo Hospitalario Dr. Sótero del Río     \n",
      "\n",
      "      GRD  Día de llegada  Día de salida  Estadia  \n",
      "0    GRD3             1.0              4      3.0  \n",
      "1    GRD7             1.0              5      4.0  \n",
      "2    GRD7             1.0              5      4.0  \n",
      "3   GRD10             1.0             11     10.0  \n",
      "4    GRD6             1.0              6      5.0  \n",
      "5    GRD1             1.0             11     10.0  \n",
      "6    GRD3             1.0              4      3.0  \n",
      "7    GRD1             1.0             11      0.0  \n",
      "8    GRD1             1.0             11     10.0  \n",
      "9    GRD3             1.0              4      3.0  \n",
      "10   GRD6             1.0              6      5.0  \n",
      "11   GRD5             NaN              5      4.0  \n",
      "12   GRD5             1.0              5      4.0  \n",
      "13   GRD3             1.0              4      3.0  \n",
      "14   GRD3             1.0              4      3.0  \n"
     ]
    }
   ],
   "source": [
    "print(datos.iloc[:15,:])"
   ]
  },
  {
   "cell_type": "code",
   "execution_count": 140,
   "id": "e655e4e8",
   "metadata": {},
   "outputs": [
    {
     "name": "stdout",
     "output_type": "stream",
     "text": [
      "    Número de llegada                              Hospital al que llega  \\\n",
      "0                   1       Instituto Traumatológico Dr. Teodoro Gebauer   \n",
      "1                   2                Hospital Clínico San Borja-Arriarán   \n",
      "2                   3                         Hospital Dr. Luis Tisné B.   \n",
      "3                   4              Hospital Dr. Exequiel González Cortés   \n",
      "4                   5                       Hospital Barros Luco Trudeau   \n",
      "5                   6  Instituto Nacional de Enfermedades Respiratori...   \n",
      "6                   7                    Hospital Dr. Félix Bulnes Cerda   \n",
      "7                   8                         Hospital Dr. Luis Tisné B.   \n",
      "8                   9                              Hospital Del Salvador   \n",
      "9                  10       Instituto Traumatológico Dr. Teodoro Gebauer   \n",
      "10                 11  Hospital de Urgencia Asistencia Pública Dr. Al...   \n",
      "11                 12                     Complejo Hospitalario San José   \n",
      "12                 13                       Hospital Barros Luco Trudeau   \n",
      "13                 14              Hospital Dr. Exequiel González Cortés   \n",
      "14                 15         Complejo Hospitalario Dr. Sótero del Río     \n",
      "\n",
      "      GRD  Día de llegada  Día de salida  Estadia  \n",
      "0    GRD3             1.0              4      3.0  \n",
      "1    GRD7             1.0              5      4.0  \n",
      "2    GRD7             1.0              5      4.0  \n",
      "3   GRD10             1.0             11     10.0  \n",
      "4    GRD6             1.0              6      5.0  \n",
      "5    GRD1             1.0             11     10.0  \n",
      "6    GRD3             1.0              4      3.0  \n",
      "7    GRD1             1.0             11     10.0  \n",
      "8    GRD1             1.0             11     10.0  \n",
      "9    GRD3             1.0              4      3.0  \n",
      "10   GRD6             1.0              6      5.0  \n",
      "11   GRD5             NaN              5      4.0  \n",
      "12   GRD5             1.0              5      4.0  \n",
      "13   GRD3             1.0              4      3.0  \n",
      "14   GRD3             1.0              4      3.0  \n"
     ]
    }
   ],
   "source": [
    "\n",
    "#datos=pd.read_excel(open('C:/Users/andre/OneDrive/Documentos/taller1/taller1/datos.xls', 'rb'),sheet_name='Información Histórica') \n",
    "datos['Estadia'].replace([np.nan,\"Jaime\",\"lala\",\"Luisa\",\"na\"],0,inplace = True)\n",
    "\n",
    "def esta_difere(df):\n",
    "    #df['Estadia'] = (df['Día de salida'] - df['Día de llegada'])\n",
    "    new_df = df[df['Estadia']==0].copy()\n",
    "    new_df['Estadia'] = (new_df['Día de salida'] - new_df['Día de llegada'])\n",
    "    df[df['Estadia']==0] = new_df \n",
    "    #return df\n",
    "\n",
    "esta_difere(datos)\n",
    "print(datos.iloc[:15,:])"
   ]
  },
  {
   "cell_type": "code",
   "execution_count": 141,
   "id": "37d3cc88",
   "metadata": {},
   "outputs": [
    {
     "name": "stdout",
     "output_type": "stream",
     "text": [
      "    Número de llegada                              Hospital al que llega  \\\n",
      "0                   1       Instituto Traumatológico Dr. Teodoro Gebauer   \n",
      "1                   2                Hospital Clínico San Borja-Arriarán   \n",
      "2                   3                         Hospital Dr. Luis Tisné B.   \n",
      "3                   4              Hospital Dr. Exequiel González Cortés   \n",
      "4                   5                       Hospital Barros Luco Trudeau   \n",
      "5                   6  Instituto Nacional de Enfermedades Respiratori...   \n",
      "6                   7                    Hospital Dr. Félix Bulnes Cerda   \n",
      "7                   8                         Hospital Dr. Luis Tisné B.   \n",
      "8                   9                              Hospital Del Salvador   \n",
      "9                  10       Instituto Traumatológico Dr. Teodoro Gebauer   \n",
      "10                 11  Hospital de Urgencia Asistencia Pública Dr. Al...   \n",
      "11                 12                     Complejo Hospitalario San José   \n",
      "12                 13                       Hospital Barros Luco Trudeau   \n",
      "13                 14              Hospital Dr. Exequiel González Cortés   \n",
      "14                 15         Complejo Hospitalario Dr. Sótero del Río     \n",
      "\n",
      "      GRD  Día de llegada  Día de salida  Estadia  \n",
      "0    GRD3             1.0              4      3.0  \n",
      "1    GRD7             1.0              5      4.0  \n",
      "2    GRD7             1.0              5      4.0  \n",
      "3   GRD10             1.0             11     10.0  \n",
      "4    GRD6             1.0              6      5.0  \n",
      "5    GRD1             1.0             11     10.0  \n",
      "6    GRD3             1.0              4      3.0  \n",
      "7    GRD1             1.0             11     10.0  \n",
      "8    GRD1             1.0             11     10.0  \n",
      "9    GRD3             1.0              4      3.0  \n",
      "10   GRD6             1.0              6      5.0  \n",
      "11   GRD5             1.0              5      4.0  \n",
      "12   GRD5             1.0              5      4.0  \n",
      "13   GRD3             1.0              4      3.0  \n",
      "14   GRD3             1.0              4      3.0  \n"
     ]
    }
   ],
   "source": [
    "datos['Día de llegada'].replace(np.nan,0,inplace = True)\n",
    "\n",
    "def diallegada_difere(df):\n",
    "    #df['Estadia'] = (df['Día de salida'] - df['Día de llegada'])\n",
    "    new_df = df[df['Día de llegada']==0].copy()\n",
    "    new_df['Día de llegada'] = (new_df['Día de salida'] - new_df['Estadia'])\n",
    "    df[df['Día de llegada']==0] = new_df \n",
    "\n",
    "diallegada_difere(datos)\n",
    "print(datos.iloc[:15,:])"
   ]
  },
  {
   "cell_type": "code",
   "execution_count": 32,
   "id": "76a9c757",
   "metadata": {},
   "outputs": [
    {
     "name": "stderr",
     "output_type": "stream",
     "text": [
      "C:\\Users\\andre\\anaconda3\\lib\\site-packages\\seaborn\\_decorators.py:36: FutureWarning: Pass the following variable as a keyword arg: x. From version 0.12, the only valid positional argument will be `data`, and passing other arguments without an explicit keyword will result in an error or misinterpretation.\n",
      "  warnings.warn(\n"
     ]
    },
    {
     "data": {
      "text/plain": [
       "<AxesSubplot:xlabel='Estadia', ylabel='count'>"
      ]
     },
     "execution_count": 32,
     "metadata": {},
     "output_type": "execute_result"
    },
    {
     "data": {
      "image/png": "[encoded data removed]",
      "text/plain": [
       "<Figure size 432x288 with 1 Axes>"
      ]
     },
     "metadata": {
      "needs_background": "light"
     },
     "output_type": "display_data"
    }
   ],
   "source": [
    "sns.countplot(datos['Estadia'])"
   ]
  }
 ],
 "metadata": {
  "kernelspec": {
   "display_name": "Python 3 (ipykernel)",
   "language": "python",
   "name": "python3"
  },
  "language_info": {
   "codemirror_mode": {
    "name": "ipython",
    "version": 3
   },
   "file_extension": ".py",
   "mimetype": "text/x-python",
   "name": "python",
   "nbconvert_exporter": "python",
   "pygments_lexer": "ipython3",
   "version": "3.9.7"
  }
 },
 "nbformat": 4,
 "nbformat_minor": 5
}
