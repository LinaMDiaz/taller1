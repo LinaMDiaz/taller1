{
 "cells": [
  {
   "cell_type": "code",
   "execution_count": null,
   "id": "0e3e20aa",
   "metadata": {},
   "outputs": [],
   "source": [
    "## modelo de regresión lineal\n",
    "\n",
    "import pandas as pd\n",
    "import numpy as np\n",
    "import seaborn as sns"
   ]
  },
  {
   "cell_type": "code",
   "execution_count": null,
   "id": "ac0e876d",
   "metadata": {},
   "outputs": [],
   "source": [
    "datos=pd.read_excel(open('C:/Users/andre/OneDrive/Documentos/taller1/taller1/datos.xls', 'rb'),sheet_name='Información Histórica') "
   ]
  },
  {
   "cell_type": "code",
   "execution_count": null,
   "id": "5e858cb0",
   "metadata": {},
   "outputs": [],
   "source": [
    "#datos=pd.read_excel(open('C:/Users/andre/OneDrive/Documentos/taller1/taller1/datos.xls', 'rb'),sheet_name='Información Histórica') \n",
    "datos['Estadia'].replace([np.nan,\"Jaime\",\"lala\",\"Luisa\",\"na\"],0,inplace = True)\n",
    "\n",
    "def esta_difere(df):\n",
    "    #df['Estadia'] = (df['Día de salida'] - df['Día de llegada'])\n",
    "    new_df = df[df['Estadia']==0].copy()\n",
    "    new_df['Estadia'] = (new_df['Día de salida'] - new_df['Día de llegada'])\n",
    "    df[df['Estadia']==0] = new_df \n",
    "    #return df\n",
    "\n",
    "esta_difere(datos)"
   ]
  },
  {
   "cell_type": "code",
   "execution_count": null,
   "id": "f4e0df97",
   "metadata": {},
   "outputs": [],
   "source": [
    "datos['Día de llegada'].replace(np.nan,0,inplace = True)\n",
    "\n",
    "def diallegada_difere(df):\n",
    "    #df['Estadia'] = (df['Día de salida'] - df['Día de llegada'])\n",
    "    new_df = df[df['Día de llegada']==0].copy()\n",
    "    new_df['Día de llegada'] = (new_df['Día de salida'] - new_df['Estadia'])\n",
    "    df[df['Día de llegada']==0] = new_df \n",
    "\n",
    "diallegada_difere(datos)"
   ]
  },
  {
   "cell_type": "code",
   "execution_count": null,
   "id": "8988ed74",
   "metadata": {},
   "outputs": [],
   "source": [
    "## agregar pacientes por dia de llegada\n",
    "#datosag=pd.pivot_table(datos, values='Número de llegada', index=['Estadia','GRD','Día de llegada'],\n",
    "               #aggfunc='count')\n",
    "\n",
    "datosag=datos.groupby(['Estadia','GRD',\"Día de llegada\"])['Número de llegada'].count().reset_index(name=\"Pacientes\")\n",
    "datosag\n"
   ]
  },
  {
   "cell_type": "code",
   "execution_count": null,
   "id": "b57d41cb",
   "metadata": {},
   "outputs": [],
   "source": [
    "## modelo de regresión lineal del número de pacientes atendidos por dia\n",
    "\n",
    "from sklearn.model_selection import train_test_split # Para separar a data\n",
    "from sklearn.linear_model import LinearRegression\n",
    "from sklearn.metrics import mean_squared_error, r2_score\n",
    "from IPython.display import display, HTML\n",
    "\n",
    "X=datosag[['Estadia']]\n",
    "Y=datosag[['Pacientes']]"
   ]
  },
  {
   "cell_type": "code",
   "execution_count": null,
   "id": "8fd1e44c",
   "metadata": {},
   "outputs": [],
   "source": [
    "# Generamos la división entre la muestra de entrenamiento (train) y prueba (test) e iniciamos el generador aleatorio\n",
    "X_train,X_test,Y_train,Y_test = train_test_split(X, Y, test_size = 0.2, random_state = 111)"
   ]
  },
  {
   "cell_type": "code",
   "execution_count": null,
   "id": "3881b086",
   "metadata": {},
   "outputs": [],
   "source": [
    "#Entrenamos el modelo con los datos correspondientes\n",
    "import numpy as np\n",
    "\n",
    "reg = LinearRegression().fit(X_train, Y_train)\n",
    "\n",
    "#Vemos el ajuste del modelo\n",
    "print(\"R^2: %.6f\\t\" % reg.score(X_train, Y_train))\n",
    "print(\"\\nCoeficiente de las variables independientes (entrenamiento):\")\n",
    "\n",
    "#Construimos un data dataframe para mostrar elegantemente los coeficiente por cada variable.\n",
    "\n",
    "coeff_df = pd.DataFrame(np.transpose(reg.coef_), X_train.columns, columns=['Coefficient'])  \n",
    "display(HTML(coeff_df.to_html()))\n",
    "print(\"Intercepto (entrenamiento)\\t: %.6f\" % reg.intercept_)\n",
    "\n",
    "\n",
    "# Calculamos el error usando el dataset de prueba\n",
    "Y_pred = reg.predict(X_test)\n",
    "print('\\nMean squared error (prueba)\\t: %.6f' % mean_squared_error(Y_test, Y_pred))\n",
    "print('Coeff. of determination(prueba)\\t: %.6f' % r2_score(Y_test, Y_pred))\n"
   ]
  },
  {
   "cell_type": "code",
   "execution_count": null,
   "id": "b1a466f2",
   "metadata": {},
   "outputs": [],
   "source": []
  }
 ],
 "metadata": {
  "kernelspec": {
   "display_name": "Python 3 (ipykernel)",
   "language": "python",
   "name": "python3"
  },
  "language_info": {
   "codemirror_mode": {
    "name": "ipython",
    "version": 3
   },
   "file_extension": ".py",
   "mimetype": "text/x-python",
   "name": "python",
   "nbconvert_exporter": "python",
   "pygments_lexer": "ipython3",
   "version": "3.9.7"
  }
 },
 "nbformat": 4,
 "nbformat_minor": 5
}
